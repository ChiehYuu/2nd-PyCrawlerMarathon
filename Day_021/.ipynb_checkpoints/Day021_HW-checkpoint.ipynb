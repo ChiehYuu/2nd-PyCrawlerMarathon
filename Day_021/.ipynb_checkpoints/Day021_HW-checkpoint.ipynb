{
 "cells": [
  {
   "cell_type": "markdown",
   "metadata": {},
   "source": [
    "# Ettoday 網路爬蟲實作練習\n",
    "\n",
    "\n",
    "* 能夠利用 Request + BeatifulSour 撰寫爬蟲，並存放到合適的資料結構\n"
   ]
  },
  {
   "cell_type": "markdown",
   "metadata": {},
   "source": [
    "## 作業目標\n",
    "\n",
    "根據範例：\n",
    "\n",
    "1. 取出今天所有的新聞\n",
    "2. 取出現在時間兩小時內的新聞\n",
    "3. 根據範例，取出三天前下午三點到五點的新聞"
   ]
  },
  {
   "cell_type": "markdown",
   "metadata": {},
   "source": [
    "## 1. 取出今天所有的新聞"
   ]
  },
  {
   "cell_type": "code",
   "execution_count": 10,
   "metadata": {},
   "outputs": [],
   "source": [
    "from selenium import webdriver as Driver\n",
    "from bs4 import BeautifulSoup as Soup\n",
    "import time\n",
    "import datetime\n",
    "from selenium.webdriver.support.ui import Select"
   ]
  },
  {
   "cell_type": "code",
   "execution_count": 11,
   "metadata": {},
   "outputs": [],
   "source": [
    "browser = Driver.Chrome(executable_path='chromedriver')\n",
    "browser.get('https://www.ettoday.net/news/news-list.htm')"
   ]
  },
  {
   "cell_type": "code",
   "execution_count": 12,
   "metadata": {},
   "outputs": [
    {
     "data": {
      "text/plain": [
       "'2020/03/18'"
      ]
     },
     "execution_count": 12,
     "metadata": {},
     "output_type": "execute_result"
    }
   ],
   "source": [
    "today = time.strftime('%Y/%m/%d',time.localtime())\n",
    "today"
   ]
  },
  {
   "cell_type": "code",
   "execution_count": 13,
   "metadata": {},
   "outputs": [],
   "source": [
    "for i in range(20):\n",
    "    time.sleep(2)\n",
    "    browser.execute_script('window.scrollTo(1,10000);')"
   ]
  },
  {
   "cell_type": "code",
   "execution_count": 14,
   "metadata": {},
   "outputs": [
    {
     "name": "stdout",
     "output_type": "stream",
     "text": [
      "2020/03/18 23:04 影劇 19歲《Vogue》嫩模確診新冠肺炎！　「將更多人接著感染」怒呼：他X請自我隔離 https://www.ettoday.net/news/20200318/1670972.htm\n",
      "2020/03/18 23:02 影劇 法律系校花出道拍AV…自稱「復仇前男友」遭質疑！　親吐「性欲太強」內幕 https://www.ettoday.net/news/20200318/1670978.htm\n",
      "2020/03/18 23:02 生活 口罩實名制再放寬！明起16歲以下可購買兒童口罩 https://www.ettoday.net/news/20200318/1670960.htm\n",
      "2020/03/18 23:01 政治 魏明谷FB宣布「請辭」台灣自來水董事長　蘇貞昌准了 https://www.ettoday.net/news/20200318/1670980.htm\n",
      "2020/03/18 22:52 影劇 成勛擁抱朴娜勑「身高差太萌」爆戀愛說！　時隔3月…親解2人真實關係 https://www.ettoday.net/news/20200318/1670975.htm\n",
      "2020/03/18 22:50 網搜 載過日籍乘客...運將把前後座隔起來！她上「負壓隔離計程車」忍不住大笑 https://www.ettoday.net/news/20200318/1670959.htm\n",
      "2020/03/18 22:44 旅遊 全台誠品「發票變現金」　誠品行旅「吃住」都能直接折抵 https://www.ettoday.net/news/20200318/1670969.htm\n",
      "2020/03/18 22:44 政治 指揮中心盼留學生盡可能留當地　趙少康怒拍桌「什麼政府！」 https://www.ettoday.net/news/20200318/1670957.htm\n",
      "2020/03/18 22:43 國際 伊朗「103歲阿嬤」戰勝新冠肺炎！　完全康復出院 https://www.ettoday.net/news/20200318/1670961.htm\n",
      "2020/03/18 22:41 房產雲 月租金逾40萬！斗六唯一電影院「中華影城」熄燈　鄉親震撼不捨：感謝陪伴 https://www.ettoday.net/news/20200318/1670967.htm\n",
      "2020/03/18 22:38 國際 不斷更新／英國單日確診暴增35％　孟加拉、 撒哈拉以南非洲出現第一死 https://www.ettoday.net/news/20200318/1669995.htm\n",
      "2020/03/18 22:36 生活 民眾請放心　社區健保藥局領的藥是和醫院一模一樣！ https://www.ettoday.net/news/20200318/1670968.htm\n",
      "2020/03/18 22:36 體育 中職／林哲瑄3分砲定江山　洪總：原本心想糟糕 https://www.ettoday.net/news/20200318/1670958.htm\n",
      "2020/03/18 22:35 時尚 雅詩蘭黛母親節檔4大必搶重點　最新粉持久氣墊、小白瓶都有優惠組 https://www.ettoday.net/news/20200318/1670807.htm\n",
      "2020/03/18 22:31 財經 快訊／台積電證實「1員工確診」！　新竹科學園區緊急回應了 https://www.ettoday.net/news/20200318/1670964.htm\n",
      "2020/03/18 22:29 健康 籲別再出國！女醫「無怨賠3萬」秒取消希臘行　提到第一線人員落淚了… https://www.ettoday.net/news/20200318/1670826.htm\n",
      "2020/03/18 22:16 體育 中職／改變配球壓左打　伍鐸勤練圈指變速球 https://www.ettoday.net/news/20200318/1670953.htm\n",
      "2020/03/18 22:11 體育 中職／96很有開創性　沐妍要球迷「久留」 https://www.ettoday.net/news/20200318/1670955.htm\n",
      "2020/03/18 22:09 影劇 特／《黑寡婦》花12年才等到 ！疫情搞砸了漫威時間表　我們何時能看見？ https://www.ettoday.net/news/20200318/1670925.htm\n",
      "2020/03/18 22:06 影劇 疫情衝擊！梁正群見不到北京工作老婆　老爸梁修身備三餐伺候 https://www.ettoday.net/news/20200318/1670425.htm\n",
      "2020/03/18 22:05 國際 日本職員失手摔破「新冠病毒試劑」！機場檢疫所關閉…確定造成室內汙染 https://www.ettoday.net/news/20200318/1670950.htm\n",
      "2020/03/18 22:05 社會 頭髮掛在竹林隨風飄…三峽女身中3槍被推下山！上半身剩白骨母親淚崩 https://www.ettoday.net/news/20200318/1670947.htm\n",
      "2020/03/18 22:03 地方 居家檢疫或隔離民眾就醫回程需求　嘉義縣啟動防疫小黃 https://www.ettoday.net/news/20200318/1670459.htm\n",
      "2020/03/18 22:03 時尚 愛情觀小測驗！從5種「頭髮擺放」睡姿，看出你的戀愛個性 https://www.ettoday.net/news/20200318/1668907.htm\n",
      "2020/03/18 22:02 體育 中職／地表最正的啦啦隊員　Yuri陳怡叡16號別有用心 https://www.ettoday.net/news/20200318/1670949.htm\n",
      "2020/03/18 22:01 國際 快訊／川普宣布「關閉美國加拿大邊境」　禁止所有非必要交通 https://www.ettoday.net/news/20200318/1670948.htm\n",
      "2020/03/18 22:01 影劇 佐藤健《戀愛》狂吻11次認了「心動」！媽媽也認證上白石萌音　全台百萬人緊追最終回 https://www.ettoday.net/news/20200318/1670946.htm\n",
      "2020/03/18 21:59 地方 桃園舊火車站拆除工程啟動　舊月台上棚架為列管文化資產　 https://www.ettoday.net/news/20200318/1670932.htm\n",
      "2020/03/18 21:59 地方 整潔市容最後推手　嘉市環保局清潔隊化身城市街道情人 https://www.ettoday.net/news/20200318/1670451.htm\n",
      "2020/03/18 21:57 政治 柯文哲呼籲暫時別出國玩　把握台北杜鵑花季 https://www.ettoday.net/news/20200318/1670945.htm\n",
      "2020/03/18 21:52 國際 快訊／美國鹽湖城規模5.7地震！28年最強　百萬居民清晨驚醒　 https://www.ettoday.net/news/20200318/1670944.htm\n",
      "2020/03/18 21:50 國際 大邱17歲少年「採檢7次」病死　爸媽爆料：發燒41度被醫院請回 https://www.ettoday.net/news/20200318/1670908.htm\n",
      "2020/03/18 21:48 地方 快訊／租約到期！斗六中華影城FB驚曝停業：只到月底 https://www.ettoday.net/news/20200318/1670942.htm\n",
      "2020/03/18 21:48 地方 嘉市托育資源中心維持開放　建立幼兒防疫措施守護網 https://www.ettoday.net/news/20200318/1670557.htm\n",
      "2020/03/18 21:46 影劇 安珀認了家暴「新音檔首曝光」！　甩門重擊強尼戴普頭部：只是反射動作 https://www.ettoday.net/news/20200318/1670937.htm\n",
      "2020/03/18 21:46 大陸 禁美媒駐點...港憂侵蝕一國兩制　中國外交部駐港公署轟「顛倒是非」 https://www.ettoday.net/news/20200318/1670913.htm\n",
      "2020/03/18 21:42 體育 中職／林哲瑄開轟破僵局　富邦3比1擊退樂天 https://www.ettoday.net/news/20200318/1670930.htm\n",
      "2020/03/18 21:42 地方 嘉義市社區大學自然農法班開班15年　香港夫妻移民取經 https://www.ettoday.net/news/20200318/1670535.htm\n",
      "2020/03/18 21:42 地方 興嘉國小楊又蓉畫作獲企業助學金　轉助弱勢學弟妹 https://www.ettoday.net/news/20200318/1670502.htm\n",
      "2020/03/18 21:38 保險 「壽險大魔王」IFRS 17延至2023年！台灣預計2026年1月上路　保險業還有6年時間準備 https://www.ettoday.net/news/20200318/1670927.htm\n",
      "2020/03/18 21:37 體育 大專棒聯／四強對戰組合出爐　文化拚三連霸先過開南關 https://www.ettoday.net/news/20200318/1670943.htm\n",
      "2020/03/18 21:34 財經 快訊／道瓊開盤崩1300點！　美股三大指數全面重挫5％ https://www.ettoday.net/news/20200318/1670936.htm\n",
      "2020/03/18 21:34 政治 為滯留武漢台人抱屈　黃智賢：民進黨雙重標準到沒人性的地步 https://www.ettoday.net/news/20200318/1670939.htm\n",
      "2020/03/18 21:29 健康 「老花眼」提早上身！醫曝「年輕化關鍵」…1現象＝警訊 https://www.ettoday.net/news/20200318/1670407.htm\n",
      "2020/03/18 21:26 影劇 獨／為圓夢想清單　許富凱和平分手8年老東家！ https://www.ettoday.net/news/20200318/1670761.htm\n",
      "2020/03/18 21:23 地方 台南市推出「機票換套票」　暢遊世界級景點不必出國 https://www.ettoday.net/news/20200318/1670935.htm\n",
      "2020/03/18 21:20 旅遊 漢來海港推「吃到飽帶回家」　3/20再祭出4人同行1人免費 https://www.ettoday.net/news/20200318/1670933.htm\n",
      "2020/03/18 21:17 體育 大專棒聯／向學長岳東華看齊　陽尚衛工具人優勢拚職棒 https://www.ettoday.net/news/20200318/1670934.htm\n",
      "2020/03/18 21:14 時尚 席夢思床墊主打「抗菌」功能搶市　來客7成都買單 https://www.ettoday.net/news/20200318/1670870.htm\n",
      "2020/03/18 21:12 政治 快訊／六都首例！兒子讀美國名校回台發燒　台中一級首長「居家檢疫」！ https://www.ettoday.net/news/20200318/1670931.htm\n",
      "2020/03/18 21:12 政治 歐洲返國者居家檢疫達1.6萬人　黃光芹：請這些上流人士自費 https://www.ettoday.net/news/20200318/1670929.htm\n",
      "2020/03/18 21:07 國際 梅克爾將向德國全民發表「重大談話」　就任總理14年首次！ https://www.ettoday.net/news/20200318/1670911.htm\n",
      "2020/03/18 21:06 生活 本土語言2022年列國高中必修　「部定課程」含客語、手語、閩東語 https://www.ettoday.net/news/20200318/1670928.htm\n",
      "2020/03/18 21:04 影劇 張智成「喉嚨痛流鼻水」自家隔離！　透過網路醫生判病情…曝光現況 https://www.ettoday.net/news/20200318/1670926.htm\n",
      "2020/03/18 21:03 影劇 台灣禁止「非本國籍人士」入境！　韓網紅解析「台韓防疫做法差異」讚：真的很敬佩 https://www.ettoday.net/news/20200318/1670921.htm\n",
      "2020/03/18 21:02 體育 中職／見識林安可攻擊威力　蘇俊璋：天生手感 https://www.ettoday.net/news/20200318/1670905.htm\n",
      "2020/03/18 20:58 政治 怕失言被全紀錄？韓國瑜出席業務會報　致詞「默默改成會後不開放」 https://www.ettoday.net/news/20200318/1670799.htm\n",
      "2020/03/18 20:57 社會 台南2官員不聽勸爽玩歐洲！黃偉哲怒下禁假令    緊急召回再補2槍 https://www.ettoday.net/news/20200318/1670920.htm\n",
      "2020/03/18 20:56 政治 黃智賢轟陳時中害慘台灣人　籲找旅館讓回台國人統一隔離 https://www.ettoday.net/news/20200318/1670922.htm\n",
      "2020/03/18 20:56 影劇 兩萬筆搜尋敲碗！《梨泰院class》OST終於上架　世路之歌、V跨刀力挺排行榜爆衝 https://www.ettoday.net/news/20200318/1670915.htm\n",
      "2020/03/18 20:55 影劇 陳妤天天擁抱曹佑寧「感情變緊密」　急踩心動煞車：殺青就忘 https://www.ettoday.net/news/20200318/1670923.htm\n",
      "2020/03/18 20:53 影劇 茵芙3個月前簽字離婚豪門老公！演失婚女嘆「人生如戲」 https://www.ettoday.net/news/20200318/1670523.htm\n",
      "2020/03/18 20:53 軍武 美軍基地超市也被清光　張競：官兵眷屬信心不足實在「讓人驚訝」 https://www.ettoday.net/news/20200318/1670510.htm\n",
      "2020/03/18 20:51 影劇 泰國宣布「3/18起電影戲劇廣告全停拍」　型男主持人確診…天后老婆也感染了 https://www.ettoday.net/news/20200318/1670912.htm\n",
      "2020/03/18 20:50 寵物動物 鹿比人多！新冠肺炎衝擊奈良觀光　「神的使者」市區逛大街 https://www.ettoday.net/news/20200318/1670856.htm\n",
      "2020/03/18 20:50 地方 基隆女「歐洲返台」趴趴走！各大景點跑遍…居民全嚇傻 https://www.ettoday.net/news/20200318/1670827.htm\n",
      "2020/03/18 20:48 影劇 老蕭師妹遭狠咬...「手冒青筋＋瞳孔全黑」驚悚畫面曝光！ https://www.ettoday.net/news/20200318/1670914.htm\n",
      "2020/03/18 20:47 3C家電 快訊／MacBook Air更新　最低28,700元即可入手 https://www.ettoday.net/news/20200318/1670918.htm\n",
      "2020/03/18 20:45 政治 落選的人叫一時之選？　江啟臣笑翻：問蘇貞昌、陳其邁、林佳龍 https://www.ettoday.net/news/20200318/1670906.htm\n",
      "2020/03/18 20:43 影劇 劉樂妍微博喊「武漢肺炎」被砲轟！　急改口：是我口誤，對不起 https://www.ettoday.net/news/20200318/1670795.htm\n",
      "2020/03/18 20:42 財經 台積電員工確診...隔離30人！　上班員工戴口罩 https://www.ettoday.net/news/20200318/1670916.htm\n",
      "2020/03/18 20:41 體育 大專棒聯／余謙飆速150自請完投　「突破」投出代表作 https://www.ettoday.net/news/20200318/1670797.htm\n",
      "2020/03/18 20:34 健康 高跟鞋背黑鍋！「拇趾外翻」和4原因有關…改善法大公開 https://www.ettoday.net/news/20200318/1670628.htm\n",
      "2020/03/18 20:30 時尚 Melvita最強瘦身油全新升級　加碼推出「按摩杯」只送不賣 https://www.ettoday.net/news/20200318/1670739.htm\n",
      "2020/03/18 20:29 3C家電 快訊／iPad Pro突然發表　iPadOS又多了觸控式軌跡板支援 https://www.ettoday.net/news/20200318/1670909.htm\n",
      "2020/03/18 20:28 財經 影／降息導致壽險收益急降　達人分析台股下檔滿足點報你知 https://www.ettoday.net/news/20200318/1670525.htm\n",
      "2020/03/18 20:25 財經 快訊／台積電晚間證實「1員工確診新冠肺炎」　緊急啟動分組上班 https://www.ettoday.net/news/20200318/1670907.htm\n",
      "2020/03/18 20:25 社會 行刑3槍狠殺年輕妹推下山谷　屍體尋獲後...2男都說：人不是我殺的 https://www.ettoday.net/news/20200318/1670822.htm\n",
      "2020/03/18 20:22 體育 中職／教練鼓勵放膽投　蘇俊璋鎖定擠進勝利組 https://www.ettoday.net/news/20200318/1670896.htm\n",
      "2020/03/18 20:19 影劇 邵雨薇美披白紗：我好像要嫁了！觀看「李國修祝福影片」感動想哭 https://www.ettoday.net/news/20200318/1670886.htm\n",
      "2020/03/18 20:19 國際 他們超愛洗手！土耳其疫情卻「一週三級跳」　原因曝光 https://www.ettoday.net/news/20200318/1670876.htm\n",
      "2020/03/18 20:18 社會 議員質疑「入境通報延遲」　移民署：每日3次傳輸入境資料 https://www.ettoday.net/news/20200318/1670902.htm\n",
      "2020/03/18 20:18 旅遊 剖面是萌萌富士山！抹茶莓果餡奶凍必吃　全聯9款抹茶聯名新品　 https://www.ettoday.net/news/20200318/1670585.htm\n",
      "2020/03/18 20:17 地方 嘉市12派出所773個智慧巡邏箱啟用　優化警力派遣 https://www.ettoday.net/news/20200318/1670478.htm\n",
      "2020/03/18 20:17 生活 防疫注意衛生與健康　嘉義市「沉睡大白熊」換暖橘色口罩 https://www.ettoday.net/news/20200318/1670466.htm\n",
      "2020/03/18 20:16 政治 大洋洲16國家旅遊警示燈　外交部調升「紅色」 https://www.ettoday.net/news/20200318/1670903.htm\n",
      "2020/03/18 20:16 生活 滯英留學生「逃難潮」　桃園議員爆搭機「口罩眼鏡」全副武裝 https://www.ettoday.net/news/20200318/1670901.htm\n",
      "2020/03/18 20:16 大陸 輕型患者痊癒後不會有「後遺症」！陸專家：少數極重患者肺部會纖維化 https://www.ettoday.net/news/20200318/1670894.htm\n",
      "2020/03/18 20:06 政治 外交部調升美國旅遊警示燈「橙色」、加拿大「紅色」 https://www.ettoday.net/news/20200318/1670900.htm\n",
      "2020/03/18 20:06 國際 快訊／全球新冠肺炎感染「破20萬人」！　死亡8000例持續增加 https://www.ettoday.net/news/20200318/1670890.htm\n",
      "2020/03/18 20:05 3C家電 日本電信巨擘Docomo 3月底啟用5G　流量100G月租近1500元 https://www.ettoday.net/news/20200318/1670855.htm\n",
      "2020/03/18 20:05 消費 防疫商品滿天飛該買啥？網友建議從免疫力下手　賣場阿姨熱推「唯一國家雙認證」鷄精 https://www.ettoday.net/news/20200318/1661416.htm\n",
      "2020/03/18 20:04 財經 「疫」拳重擊！華航五年來首見虧損　董事會通過發債百億元自救 https://www.ettoday.net/news/20200318/1670899.htm\n",
      "2020/03/18 20:02 地方 首創空拍機查核納稅結合民雄航太基地　嘉縣航太科技更進一步 https://www.ettoday.net/news/20200318/1670892.htm\n",
      "2020/03/18 20:01 地方 旅遊安全宣導高跟鞋教堂登場　今年增加防疫宣導 https://www.ettoday.net/news/20200318/1670594.htm\n",
      "2020/03/18 20:00 ET車雲 239萬起！Volvo XC60 B5「48V輕油電」上市、取消D5柴油車型 https://www.ettoday.net/news/20200318/1670883.htm\n",
      "2020/03/18 19:57 影劇 新冠肺炎疫情蔓延　女星怒了...直轟：最難教的不是小孩，是大人 https://www.ettoday.net/news/20200318/1670844.htm\n",
      "2020/03/18 19:55 生活 快訊／防疫升級！觀光局通函「3/19起禁止旅行社出入團」 https://www.ettoday.net/news/20200318/1670895.htm\n",
      "2020/03/18 19:54 體育 中職／官辦熱身賽難得投手戰　富邦、樂天前5局0比0 https://www.ettoday.net/news/20200318/1670879.htm\n",
      "2020/03/18 19:50 社會 超恐怖！南投埔里南港溪谷大崩塌　土石揚起漫天灰塵阻斷溪流 https://www.ettoday.net/news/20200318/1670871.htm\n",
      "2020/03/18 19:50 ET車雲 朴敘俊為救愛人路上狂飆　原來車子背後竟大有來頭！ https://www.ettoday.net/news/20200318/1670689.htm\n",
      "2020/03/18 19:49 財經 新冠肺炎衝擊台股！國安基金準備出手　明開會討論進場護盤時機 https://www.ettoday.net/news/20200318/1670891.htm\n",
      "2020/03/18 19:48 財經 疫情帶動宅經濟！中嘉bb寬頻包月影劇訂戶成長33% https://www.ettoday.net/news/20200318/1670877.htm\n",
      "2020/03/18 19:47 政治 台灣確診100例　江啟臣再喊話蔡英文發布緊急命令 https://www.ettoday.net/news/20200318/1670889.htm\n",
      "2020/03/18 19:46 影劇 小8第一次當女主角被轟「把委屈收起來」　柯淑勤白眼：為什麼要跟她們演戲！ https://www.ettoday.net/news/20200318/1670880.htm\n",
      "2020/03/18 19:43 健康 出國貪玩成破口！醫憂「毀滅倒數28天」…這7點是關鍵：現在是危急存亡的時刻 https://www.ettoday.net/news/20200318/1670874.htm\n",
      "2020/03/18 19:39 國際 北韓境內確診「1→0」絕跡！金正恩「抗毒成功」回應了 https://www.ettoday.net/news/20200318/1670835.htm\n",
      "2020/03/18 19:37 影劇 房似錦與甄嬛差在哪裡？　孫儷妙答「現代人」網狂笑 https://www.ettoday.net/news/20200318/1670521.htm\n",
      "2020/03/18 19:34 政治 議員王浩幽會黑絲襪美女官！辯「輔導社福個案」　北市府一查回應了 https://www.ettoday.net/news/20200318/1670882.htm\n",
      "2020/03/18 19:32 體育 台灣棒球世界維持第4　加拿大被巴拿馬超車跌出12強 https://www.ettoday.net/news/20200318/1670881.htm\n",
      "2020/03/18 19:32 國際 大陸留英女學生戴口罩　遭不良少年騷擾還罵中國病毒！ https://www.ettoday.net/news/20200318/1670865.htm\n",
      "2020/03/18 19:29 健康 增強免疫力拼防疫！中藥師曝「6大中藥」抗病毒…養身藥材一次懂 https://www.ettoday.net/news/20200318/1669888.htm\n",
      "2020/03/18 19:27 生活 義守大學大傳系冠軍團隊接軌業界　優質專題登港都新聞 https://www.ettoday.net/news/20200318/1670518.htm\n",
      "2020/03/18 19:26 體育 中職／守備不輸陳晨威　成晉競爭先發中外野 https://www.ettoday.net/news/20200318/1670858.htm\n",
      "2020/03/18 19:25 影劇 神童出道15年第一次穿上無袖背心　「未P生圖」手臂肌炸裂⋯粉嗨喊：是SJ門面！ https://www.ettoday.net/news/20200318/1670867.htm\n",
      "2020/03/18 19:19 影劇 曹佑寧戀愛快狠準　「拒絕曖昧爆金句」全場嚇：好想講這種話 https://www.ettoday.net/news/20200318/1670873.htm\n",
      "2020/03/18 19:16 體育 AFC：新冠肺炎大流行　2020年亞足聯盃所有賽事延期舉行 https://www.ettoday.net/news/20200318/1670869.htm\n",
      "2020/03/18 19:16 影劇 史上最狂應援棒！　圓球內放本命立牌「還能拆下來換」 https://www.ettoday.net/news/20200318/1670862.htm\n",
      "2020/03/18 19:14 生活 快訊／2度落跑！新北「跑男」盧禮勇遭重罰　高額罰金曝光 https://www.ettoday.net/news/20200318/1670868.htm\n",
      "2020/03/18 19:12 生活 金山三和國小「手護健康我OK」洗手認證　激發學童練就防疫基本功 https://www.ettoday.net/news/20200318/1670842.htm\n",
      "2020/03/18 19:10 影劇 《戀愛可以持續到天長地久》婚禮福利日網當機了！演完天堂醫生…佐藤健閃電開YouTube https://www.ettoday.net/news/20200318/1670852.htm\n",
      "2020/03/18 19:10 時尚 你剪髮，愛犬放風奔跑！IG爆紅「寵物友善髮廊」落點青田街 https://www.ettoday.net/news/20200318/1669565.htm\n",
      "2020/03/18 19:08 財經 響應政策　金融業又一家！開發金實施庫藏股護盤 https://www.ettoday.net/news/20200318/1670866.htm\n",
      "2020/03/18 19:02 生活 取消4月底前所有海外團體行程  可樂旅遊：粗估損失達50億 https://www.ettoday.net/news/20200318/1670864.htm\n",
      "2020/03/18 19:01 大陸 國家不強力干預「新冠肺炎」不可能消失！鍾南山：聚餐、喝咖啡都不行 https://www.ettoday.net/news/20200318/1670784.htm\n",
      "2020/03/18 18:58 政治 新北開罰永和「盧禮勇」50萬元：居家檢疫關手機、趴趴走 https://www.ettoday.net/news/20200318/1670850.htm\n",
      "2020/03/18 18:57 影劇 鄭宜農黑膠專輯「慘遭火海淹沒」！　上架延期：小小不幸，但也是大幸之事 https://www.ettoday.net/news/20200318/1670854.htm\n",
      "2020/03/18 18:56 體育 中職／無約旅外球員爭取延長培訓　打二軍例行賽須簽約 https://www.ettoday.net/news/20200318/1670859.htm\n",
      "2020/03/18 18:53 財經 沃旭能源攜手東京電力成立合資公司　共同在日本銚子開發離岸風電 https://www.ettoday.net/news/20200318/1670857.htm\n",
      "2020/03/18 18:53 體育 中職／開季前最後備戰　富邦悍將全隊到南部打二軍 https://www.ettoday.net/news/20200318/1670841.htm\n",
      "2020/03/18 18:53 國際 守住人類最後淨土！　馬達加斯加宣布：20日起「全面斷航」至少30天 https://www.ettoday.net/news/20200318/1670831.htm\n",
      "2020/03/18 18:52 3C家電 蘋果iOS 13詭異Bug！已卸載App持續消耗流量　關行動網路也沒用 https://www.ettoday.net/news/20200318/1670853.htm\n",
      "2020/03/18 18:52 地方 南投志工大集合　縣府舉辦祥和計畫志願服務聯繫會報評鑑說明會 https://www.ettoday.net/news/20200318/1670818.htm\n",
      "2020/03/18 18:52 國際 非洲面臨肺炎與瘧疾雙挑戰　屠呦呦籲：做好完善防範措施 https://www.ettoday.net/news/20200318/1670598.htm\n",
      "2020/03/18 18:51 地方 桃園防疫超前部署　展開分區及居家辦公試辦演練 https://www.ettoday.net/news/20200318/1670846.htm\n",
      "2020/03/18 18:51 影劇 陳珮騏秘戀小8歲男友…自認私下「無聊又嚴肅」　分手1年半：到現在還在痛 https://www.ettoday.net/news/20200318/1670817.htm\n",
      "2020/03/18 18:51 社會 遭指關說法官又被評「豬隊友」…黃越宏向檢察官求償120萬敗訴 https://www.ettoday.net/news/20200318/1670845.htm\n",
      "2020/03/18 18:51 房產雲 夫妻買房…木板縫「探出一堆頭」蠕動！　一抓竟有150條蛇 https://www.ettoday.net/news/20200318/1659027.htm\n",
      "2020/03/18 18:50 影劇 周子瑜居家檢疫14天後飛抵南韓　甜蜜提醒粉絲「防疫顧好，一起加油！」 https://www.ettoday.net/news/20200318/1670848.htm\n",
      "2020/03/18 18:50 生活 新冠肺炎單日暴增23例細節公布！21境外移入+2本土狀況一覽 https://www.ettoday.net/news/20200318/1670553.htm\n",
      "2020/03/18 18:49 軍武 美軍電偵機EP-3E飛近香港　從巴士海峽穿越至南海蒐集情報 https://www.ettoday.net/news/20200318/1670668.htm\n",
      "2020/03/18 18:47 財經 國營事業人事震撼彈！台水董座魏明谷臉書發文「圓滿告辭」 https://www.ettoday.net/news/20200318/1670851.htm\n",
      "2020/03/18 18:47 影劇 女團錄音遇「13歲台灣之光」...當場被神技震懾：收我們當徒弟！ https://www.ettoday.net/news/20200318/1670839.htm\n",
      "2020/03/18 18:45 政治 貴婦奈奈醫美診所惡意倒閉　監察院糾正北市府 https://www.ettoday.net/news/20200318/1670849.htm\n",
      "2020/03/18 18:43 國際 快訊／全球新冠肺炎累計確診病例超過20萬 https://www.ettoday.net/news/20200318/1670847.htm\n",
      "2020/03/18 18:38 社會 恐怖男幼兒園外強開車門！她接小孩嚇壞急催油門　影中人現身揭真相 https://www.ettoday.net/news/20200318/1670838.htm\n",
      "2020/03/18 18:38 電競 英雄職業惡魔獵人新亮相　《爐石戰記》鳳凰年專屬登錄三重送 https://www.ettoday.net/news/20200318/1668526.htm\n",
      "2020/03/18 18:37 生活 桃園居家檢疫及隔離已裁處26件　最高裁罰100萬！合計罰324萬 https://www.ettoday.net/news/20200318/1670832.htm\n",
      "2020/03/18 18:37 論壇 姚孟昌／防疫要尊重專業　從法學為「禁師生出國」解套 https://www.ettoday.net/news/20200318/1670805.htm\n",
      "2020/03/18 18:35 影劇 產前狂增18公斤！　黃美珍生完3個月速瘦「6天甩2公斤」秘訣公開 https://www.ettoday.net/news/20200318/1670840.htm\n",
      "2020/03/18 18:35 地方 安泰醫院榮譽院長蘇清泉　再攜手優尼克生技送抗菌護膜液助基層抗疫 https://www.ettoday.net/news/20200318/1670830.htm\n",
      "2020/03/18 18:34 政治 魏明谷請辭自來水公司董事長　網路好友祝福他步步高升 https://www.ettoday.net/news/20200318/1670837.htm\n",
      "2020/03/18 18:34 社會 基隆港偷倒兩大袋廢棄物！監視器全記錄　警火速逮人最高可罰50萬 https://www.ettoday.net/news/20200318/1670773.htm\n",
      "2020/03/18 18:34 3C家電 阿宅崩潰！任天堂Switch Online一度中斷近9小時 https://www.ettoday.net/news/20200318/1670513.htm\n",
      "2020/03/18 18:34 國際 700萬人禁足21天　舊金山軟性封城：沒有人會因為外出被捕 https://www.ettoday.net/news/20200318/1670335.htm\n",
      "2020/03/18 18:32 社會 女兒喊「去買吃的」再也沒回來！失蹤18天成腫脹屍體躺三峽山區…媽悲痛掩面 https://www.ettoday.net/news/20200318/1670764.htm\n",
      "2020/03/18 18:30 遊戲 未滿 18 歲每天只能打電玩 1 小時　香川縣管制創日本首例 https://www.ettoday.net/news/20200318/1670821.htm\n",
      "2020/03/18 18:29 財經 「經濟弱勢前所未見」！　瑞銀下修大陸今年經濟成長率至1.5% https://www.ettoday.net/news/20200318/1670829.htm\n",
      "2020/03/18 18:29 生活 鋒面雲系接近中！深夜起台中以北明顯雨勢要來了　周四「降雨熱區」曝 https://www.ettoday.net/news/20200318/1670828.htm\n",
      "2020/03/18 18:29 體育 中職／包林傑可能趕不上　洪總安排輪值很頭痛 https://www.ettoday.net/news/20200318/1670588.htm\n",
      "2020/03/18 18:29 房產雲 東區房東降租求生！小7擠上忠孝東路主戰場　里長曝：萊爾富2個月就走人 https://www.ettoday.net/news/20200318/1670448.htm\n",
      "2020/03/18 18:29 健康 年輕爸媽好處多！把握「6大優勢」早早生…不怕年代隔閡 https://www.ettoday.net/news/20200318/1669779.htm\n",
      "2020/03/18 18:28 國際 哥倫比亞進入緊急狀態　總統下令老人5月底前乖乖待在家 https://www.ettoday.net/news/20200318/1670803.htm\n",
      "2020/03/18 18:27 社會 22歲女傳訊60歲阿伯「要懷你孩子」　正宮怒求償…她辯稱：肉麻一次賺500 https://www.ettoday.net/news/20200318/1670767.htm\n",
      "2020/03/18 18:25 影劇 饒舌歌手怒甩女粉絲巴掌！　全因「閃光燈貼眼前」：知道有Zoom in功能吧 https://www.ettoday.net/news/20200318/1670824.htm\n",
      "2020/03/18 18:24 體育 中職／疫情影響外籍人士　劉志威：洋將拿居留證沒問題 https://www.ettoday.net/news/20200318/1670834.htm\n",
      "2020/03/18 18:24 社會 快訊／台北30人遊覽車去不老部落玩！回程「猛撞限高鋼架」…1人一度受困 https://www.ettoday.net/news/20200318/1670833.htm\n",
      "2020/03/18 18:24 遊戲 虛擬團體「EGOIST」進駐　《DEEMO -Reborn-》樂曲包18日限時免費下載 https://www.ettoday.net/news/20200318/1670806.htm\n",
      "2020/03/18 18:24 寵物動物 一張床佔滿13隻毛孩！奴才苦笑睡邊邊　網讚：寒流來不怕冷 https://www.ettoday.net/news/20200318/1670643.htm\n",
      "2020/03/18 18:23 寵物動物 短腿汪的考驗！飼主與柯基捉迷藏　結局萬網笑翻：太矮 https://www.ettoday.net/news/20200318/1670716.htm\n",
      "2020/03/18 18:20 社會 三峽警嚴打炸街改裝、噪音車　分局長李建廣親率強力取締近百件 https://www.ettoday.net/news/20200318/1670823.htm\n",
      "2020/03/18 18:20 寵物動物 螃蟹處逆境！下秒「絕地反擊」KO河豚　7千網歪樓：保夾了 https://www.ettoday.net/news/20200318/1670483.htm\n",
      "2020/03/18 18:19 體育 NBA僅4隊確定有檢疫！籃網感染源成謎　柏金斯指「聯盟不該全面檢驗」 https://www.ettoday.net/news/20200318/1670785.htm\n",
      "2020/03/18 18:19 時尚 蔡依林火辣造型釋出！美胸僅靠兩片布遮住引粉絲暴動 https://www.ettoday.net/news/20200318/1670455.htm\n",
      "2020/03/18 18:18 寵物動物 人家也要親親！調皮爸與兒放閃　「醋包哈」反擊笑翻網 https://www.ettoday.net/news/20200318/1670239.htm\n",
      "2020/03/18 18:17 財經 歐股早盤重挫逾4%　跟進美股三大期指重挫 https://www.ettoday.net/news/20200318/1670725.htm\n",
      "2020/03/18 18:15 地方 台南傳有辦事民眾剛從法國返台連口罩都沒戴　市府：調查後是烏龍一場 https://www.ettoday.net/news/20200318/1670825.htm\n",
      "2020/03/18 18:15 寵物動物 忘填門牌！「3活招牌」外送員秒找到　網笑：集體7逃就尷尬 https://www.ettoday.net/news/20200318/1670213.htm\n",
      "2020/03/18 18:14 房產雲 一個拉一個！信義計畫區10棟A辦租金單價　連袂站上3000元大關 https://www.ettoday.net/news/20200318/1670657.htm\n",
      "2020/03/18 18:13 生活 外籍航空紛停飛台灣！異動航線一次看　華航、長榮公布最新改退票辦法 https://www.ettoday.net/news/20200318/1670788.htm\n",
      "2020/03/18 18:13 社會 為愛北上！女慘遭槍殺棄屍三峽山區　他被逮吐實情…警循濃臭味找到腫脹屍體 https://www.ettoday.net/news/20200318/1670721.htm\n",
      "2020/03/18 18:13 生活 公務員調單位猶豫「選台南or高雄？」　網激辯：常開車千萬別住台南 https://www.ettoday.net/news/20200318/1670586.htm\n",
      "2020/03/18 18:13 寵物動物 毛孩化身「向日葵」緊盯電暖器！　4千網歪樓：烤到臉皺了 https://www.ettoday.net/news/20200318/1670056.htm\n",
      "2020/03/18 18:12 大陸 A股三大指數反彈未果 　瑞銀估中國全年GDP降至1.5% https://www.ettoday.net/news/20200318/1670820.htm\n",
      "2020/03/18 18:07 大陸 明起抵港人士隔離14日　陳肇始： 正研究酒店隔離 https://www.ettoday.net/news/20200318/1670792.htm\n",
      "2020/03/18 18:05 國際 全美餐廳來客數掉3成　麥當勞關閉直營店內用區 https://www.ettoday.net/news/20200318/1670733.htm\n",
      "2020/03/18 18:04 影劇 《梨泰院》殺青照曝光！　朴敘俊「栗子頭」7個月剪42次髮 https://www.ettoday.net/news/20200318/1670813.htm\n",
      "2020/03/18 18:04 房產雲 天龍國好野人群聚一條巷　身價高！賣給親友單價也要200萬 https://www.ettoday.net/news/20200318/1670762.htm\n",
      "2020/03/18 18:03 消費 京站、微風挺醫護　集結館內50間餐飲推半價優惠 https://www.ettoday.net/news/20200318/1670812.htm\n",
      "2020/03/18 18:03 社會 夜闖明星高中「穿制服」拍性愛片　校方怒了！開吉3男妨害名譽3罪名 https://www.ettoday.net/news/20200318/1670747.htm\n",
      "2020/03/18 18:03 國際 仁川機場出包！男遊歐41天回國發燒「沒被隔離」　搭客運返家才確診 https://www.ettoday.net/news/20200318/1670697.htm\n",
      "2020/03/18 18:03 政治 影／限制非本國人入境何時解除？　外交部：由指揮中心視疫情發展決定 https://www.ettoday.net/news/20200318/1670685.htm\n",
      "2020/03/18 18:00 大陸 禁5家美媒駐點採訪　陸外交部：有意見去向美國政府提出 https://www.ettoday.net/news/20200318/1670796.htm\n",
      "2020/03/18 18:00 生活 2020長濱雙浪金剛馬拉松　因應新冠肺炎取消活動 https://www.ettoday.net/news/20200318/1670790.htm\n",
      "2020/03/18 18:00 生活 3/19起外國人禁入境、旅行社4月底前不出團　業者：上半年全台觀光營收少3000億 https://www.ettoday.net/news/20200318/1670710.htm\n",
      "2020/03/18 18:00 影劇 歐洲淪陷赴義行程取消　于美人「現在等同戰爭時代」 https://www.ettoday.net/news/20200318/1670656.htm\n",
      "2020/03/18 17:59 社會 台北監理所再爆弊端！科長涉長期收賄助5代驗廠升等「驗更多賺更多」 https://www.ettoday.net/news/20200318/1670804.htm\n",
      "2020/03/18 17:59 地方 工廠管理輔導法3月20日上路　彰化設單一窗口辦理 https://www.ettoday.net/news/20200318/1670798.htm\n",
      "2020/03/18 17:58 影劇 周杰倫《周遊記》拍2年「蕭敬騰來了」　雨神沒發威...雙帥巴黎尬球技 https://www.ettoday.net/news/20200318/1670810.htm\n",
      "2020/03/18 17:58 大陸 香港法庭下令！　港鐵7日內交出「831太子站衝突」一刀不剪畫面 https://www.ettoday.net/news/20200318/1670791.htm\n",
      "2020/03/18 17:55 保險 全台首張「門票費用損失險」保單內容曝光！新冠肺炎被隔離不能去演唱會　票錢全理賠 https://www.ettoday.net/news/20200318/1670728.htm\n",
      "2020/03/18 17:54 3C家電 HTC VIVE Cosmos Elite全球開賣　限量贈送《戰慄時空：艾莉克絲》 https://www.ettoday.net/news/20200318/1670808.htm\n",
      "2020/03/18 17:54 社會 正宮抓姦強拍薄紗肉色軀體…小三怒告「妨害秘密」不成立！ https://www.ettoday.net/news/20200318/1670726.htm\n",
      "2020/03/18 17:53 地方 南投鹿谷鄉初鄉、竹林兩村道路待修　縣長下鄉會勘改善 https://www.ettoday.net/news/20200318/1670783.htm\n",
      "2020/03/18 17:48 健康 【廣編】量身訂製頂級健康醫美計畫　「安珀琢玉」打造不簡單的平衡美學 https://www.ettoday.net/news/20200318/1670789.htm\n",
      "2020/03/18 17:47 生活 非本國籍入境限制衝擊大　朝陽科大學者：致命的打擊！政府5億紓困太少 https://www.ettoday.net/news/20200318/1670793.htm\n",
      "2020/03/18 17:45 財經 台股重摔220點失守9300點　金管會啟動救市第三階段 https://www.ettoday.net/news/20200318/1670794.htm\n",
      "2020/03/18 17:45 地方 林智堅視察百貨業防疫情形  竹市量販業防疫總動員 https://www.ettoday.net/news/20200318/1670782.htm\n",
      "2020/03/18 17:43 房產雲 壓力大好想離職？化解10個讓你喘不過氣的辦公室NG風 https://www.ettoday.net/news/20200318/1670786.htm\n",
      "2020/03/18 17:43 生活 台灣有積極防疫「國內旅遊可行嗎？」　網驚勸不要：現在跟3月初不同了 https://www.ettoday.net/news/20200318/1670727.htm\n"
     ]
    }
   ],
   "source": [
    "html = browser.page_source\n",
    "soup = Soup(html, 'html5lib')\n",
    "for h3 in soup.find(class_='part_list_2').find_all('h3'):\n",
    "    if h3.find(class_='date').text.split(' ')[0] == today:\n",
    "        Date = h3.find(class_='date').text\n",
    "        Title = h3.find(name='a').text\n",
    "        Category = h3.find(name='em').text\n",
    "        Link = h3.find(name='a')['href']\n",
    "        print(Date, Category, Title, 'https://www.ettoday.net'+Link)"
   ]
  },
  {
   "cell_type": "markdown",
   "metadata": {},
   "source": [
    "## 2. 取出現在時間兩小時內的新聞"
   ]
  },
  {
   "cell_type": "code",
   "execution_count": 15,
   "metadata": {},
   "outputs": [
    {
     "data": {
      "text/plain": [
       "'\\nYour Code\\n'"
      ]
     },
     "execution_count": 15,
     "metadata": {},
     "output_type": "execute_result"
    }
   ],
   "source": [
    "'''\n",
    "Your Code\n",
    "'''"
   ]
  },
  {
   "cell_type": "code",
   "execution_count": 16,
   "metadata": {},
   "outputs": [],
   "source": [
    "def str_to_timestamp(strTime):\n",
    "    string = str(strTime)\n",
    "    timeArray = time.strptime(string, \"%Y/%m/%d %H:%M\")\n",
    "    timestamp = time.mktime(timeArray)\n",
    "    return timestamp"
   ]
  },
  {
   "cell_type": "code",
   "execution_count": 17,
   "metadata": {},
   "outputs": [
    {
     "name": "stdout",
     "output_type": "stream",
     "text": [
      "現在時間:2020/03/18 23:07:21，獲取兩小時前:2020/03/18 21:07:21之後的新聞\n",
      "\n",
      "2020/03/18 23:04 影劇 19歲《Vogue》嫩模確診新冠肺炎！　「將更多人接著感染」怒呼：他X請自我隔離 https://www.ettoday.net/news/20200318/1670972.htm\n",
      "2020/03/18 23:02 影劇 法律系校花出道拍AV…自稱「復仇前男友」遭質疑！　親吐「性欲太強」內幕 https://www.ettoday.net/news/20200318/1670978.htm\n",
      "2020/03/18 23:02 生活 口罩實名制再放寬！明起16歲以下可購買兒童口罩 https://www.ettoday.net/news/20200318/1670960.htm\n",
      "2020/03/18 23:01 政治 魏明谷FB宣布「請辭」台灣自來水董事長　蘇貞昌准了 https://www.ettoday.net/news/20200318/1670980.htm\n",
      "2020/03/18 22:52 影劇 成勛擁抱朴娜勑「身高差太萌」爆戀愛說！　時隔3月…親解2人真實關係 https://www.ettoday.net/news/20200318/1670975.htm\n",
      "2020/03/18 22:50 網搜 載過日籍乘客...運將把前後座隔起來！她上「負壓隔離計程車」忍不住大笑 https://www.ettoday.net/news/20200318/1670959.htm\n",
      "2020/03/18 22:44 旅遊 全台誠品「發票變現金」　誠品行旅「吃住」都能直接折抵 https://www.ettoday.net/news/20200318/1670969.htm\n",
      "2020/03/18 22:44 政治 指揮中心盼留學生盡可能留當地　趙少康怒拍桌「什麼政府！」 https://www.ettoday.net/news/20200318/1670957.htm\n",
      "2020/03/18 22:43 國際 伊朗「103歲阿嬤」戰勝新冠肺炎！　完全康復出院 https://www.ettoday.net/news/20200318/1670961.htm\n",
      "2020/03/18 22:41 房產雲 月租金逾40萬！斗六唯一電影院「中華影城」熄燈　鄉親震撼不捨：感謝陪伴 https://www.ettoday.net/news/20200318/1670967.htm\n",
      "2020/03/18 22:38 國際 不斷更新／英國單日確診暴增35％　孟加拉、 撒哈拉以南非洲出現第一死 https://www.ettoday.net/news/20200318/1669995.htm\n",
      "2020/03/18 22:36 生活 民眾請放心　社區健保藥局領的藥是和醫院一模一樣！ https://www.ettoday.net/news/20200318/1670968.htm\n",
      "2020/03/18 22:36 體育 中職／林哲瑄3分砲定江山　洪總：原本心想糟糕 https://www.ettoday.net/news/20200318/1670958.htm\n",
      "2020/03/18 22:35 時尚 雅詩蘭黛母親節檔4大必搶重點　最新粉持久氣墊、小白瓶都有優惠組 https://www.ettoday.net/news/20200318/1670807.htm\n",
      "2020/03/18 22:31 財經 快訊／台積電證實「1員工確診」！　新竹科學園區緊急回應了 https://www.ettoday.net/news/20200318/1670964.htm\n",
      "2020/03/18 22:29 健康 籲別再出國！女醫「無怨賠3萬」秒取消希臘行　提到第一線人員落淚了… https://www.ettoday.net/news/20200318/1670826.htm\n",
      "2020/03/18 22:16 體育 中職／改變配球壓左打　伍鐸勤練圈指變速球 https://www.ettoday.net/news/20200318/1670953.htm\n",
      "2020/03/18 22:11 體育 中職／96很有開創性　沐妍要球迷「久留」 https://www.ettoday.net/news/20200318/1670955.htm\n",
      "2020/03/18 22:09 影劇 特／《黑寡婦》花12年才等到 ！疫情搞砸了漫威時間表　我們何時能看見？ https://www.ettoday.net/news/20200318/1670925.htm\n",
      "2020/03/18 22:06 影劇 疫情衝擊！梁正群見不到北京工作老婆　老爸梁修身備三餐伺候 https://www.ettoday.net/news/20200318/1670425.htm\n",
      "2020/03/18 22:05 國際 日本職員失手摔破「新冠病毒試劑」！機場檢疫所關閉…確定造成室內汙染 https://www.ettoday.net/news/20200318/1670950.htm\n",
      "2020/03/18 22:05 社會 頭髮掛在竹林隨風飄…三峽女身中3槍被推下山！上半身剩白骨母親淚崩 https://www.ettoday.net/news/20200318/1670947.htm\n",
      "2020/03/18 22:03 地方 居家檢疫或隔離民眾就醫回程需求　嘉義縣啟動防疫小黃 https://www.ettoday.net/news/20200318/1670459.htm\n",
      "2020/03/18 22:03 時尚 愛情觀小測驗！從5種「頭髮擺放」睡姿，看出你的戀愛個性 https://www.ettoday.net/news/20200318/1668907.htm\n",
      "2020/03/18 22:02 體育 中職／地表最正的啦啦隊員　Yuri陳怡叡16號別有用心 https://www.ettoday.net/news/20200318/1670949.htm\n",
      "2020/03/18 22:01 國際 快訊／川普宣布「關閉美國加拿大邊境」　禁止所有非必要交通 https://www.ettoday.net/news/20200318/1670948.htm\n",
      "2020/03/18 22:01 影劇 佐藤健《戀愛》狂吻11次認了「心動」！媽媽也認證上白石萌音　全台百萬人緊追最終回 https://www.ettoday.net/news/20200318/1670946.htm\n",
      "2020/03/18 21:59 地方 桃園舊火車站拆除工程啟動　舊月台上棚架為列管文化資產　 https://www.ettoday.net/news/20200318/1670932.htm\n",
      "2020/03/18 21:59 地方 整潔市容最後推手　嘉市環保局清潔隊化身城市街道情人 https://www.ettoday.net/news/20200318/1670451.htm\n",
      "2020/03/18 21:57 政治 柯文哲呼籲暫時別出國玩　把握台北杜鵑花季 https://www.ettoday.net/news/20200318/1670945.htm\n",
      "2020/03/18 21:52 國際 快訊／美國鹽湖城規模5.7地震！28年最強　百萬居民清晨驚醒　 https://www.ettoday.net/news/20200318/1670944.htm\n",
      "2020/03/18 21:50 國際 大邱17歲少年「採檢7次」病死　爸媽爆料：發燒41度被醫院請回 https://www.ettoday.net/news/20200318/1670908.htm\n",
      "2020/03/18 21:48 地方 快訊／租約到期！斗六中華影城FB驚曝停業：只到月底 https://www.ettoday.net/news/20200318/1670942.htm\n",
      "2020/03/18 21:48 地方 嘉市托育資源中心維持開放　建立幼兒防疫措施守護網 https://www.ettoday.net/news/20200318/1670557.htm\n",
      "2020/03/18 21:46 影劇 安珀認了家暴「新音檔首曝光」！　甩門重擊強尼戴普頭部：只是反射動作 https://www.ettoday.net/news/20200318/1670937.htm\n",
      "2020/03/18 21:46 大陸 禁美媒駐點...港憂侵蝕一國兩制　中國外交部駐港公署轟「顛倒是非」 https://www.ettoday.net/news/20200318/1670913.htm\n",
      "2020/03/18 21:42 體育 中職／林哲瑄開轟破僵局　富邦3比1擊退樂天 https://www.ettoday.net/news/20200318/1670930.htm\n",
      "2020/03/18 21:42 地方 嘉義市社區大學自然農法班開班15年　香港夫妻移民取經 https://www.ettoday.net/news/20200318/1670535.htm\n",
      "2020/03/18 21:42 地方 興嘉國小楊又蓉畫作獲企業助學金　轉助弱勢學弟妹 https://www.ettoday.net/news/20200318/1670502.htm\n",
      "2020/03/18 21:38 保險 「壽險大魔王」IFRS 17延至2023年！台灣預計2026年1月上路　保險業還有6年時間準備 https://www.ettoday.net/news/20200318/1670927.htm\n",
      "2020/03/18 21:37 體育 大專棒聯／四強對戰組合出爐　文化拚三連霸先過開南關 https://www.ettoday.net/news/20200318/1670943.htm\n",
      "2020/03/18 21:34 財經 快訊／道瓊開盤崩1300點！　美股三大指數全面重挫5％ https://www.ettoday.net/news/20200318/1670936.htm\n",
      "2020/03/18 21:34 政治 為滯留武漢台人抱屈　黃智賢：民進黨雙重標準到沒人性的地步 https://www.ettoday.net/news/20200318/1670939.htm\n",
      "2020/03/18 21:29 健康 「老花眼」提早上身！醫曝「年輕化關鍵」…1現象＝警訊 https://www.ettoday.net/news/20200318/1670407.htm\n",
      "2020/03/18 21:26 影劇 獨／為圓夢想清單　許富凱和平分手8年老東家！ https://www.ettoday.net/news/20200318/1670761.htm\n",
      "2020/03/18 21:23 地方 台南市推出「機票換套票」　暢遊世界級景點不必出國 https://www.ettoday.net/news/20200318/1670935.htm\n",
      "2020/03/18 21:20 旅遊 漢來海港推「吃到飽帶回家」　3/20再祭出4人同行1人免費 https://www.ettoday.net/news/20200318/1670933.htm\n",
      "2020/03/18 21:17 體育 大專棒聯／向學長岳東華看齊　陽尚衛工具人優勢拚職棒 https://www.ettoday.net/news/20200318/1670934.htm\n",
      "2020/03/18 21:14 時尚 席夢思床墊主打「抗菌」功能搶市　來客7成都買單 https://www.ettoday.net/news/20200318/1670870.htm\n",
      "2020/03/18 21:12 政治 快訊／六都首例！兒子讀美國名校回台發燒　台中一級首長「居家檢疫」！ https://www.ettoday.net/news/20200318/1670931.htm\n",
      "2020/03/18 21:12 政治 歐洲返國者居家檢疫達1.6萬人　黃光芹：請這些上流人士自費 https://www.ettoday.net/news/20200318/1670929.htm\n"
     ]
    }
   ],
   "source": [
    "\n",
    "two_hours_ago = float(time.time()) - 7200  # 兩小時前 = int(現在時戳秒數 - 7200秒)\n",
    "Now = time.strftime('%Y/%m/%d %H:%M:%S',time.localtime())\n",
    "Ago = time.strftime(\"%Y/%m/%d %H:%M:%S\",time.localtime(two_hours_ago))\n",
    "print('現在時間:{}，獲取兩小時前:{}之後的新聞\\n'.format(Now, Ago))\n",
    "\n",
    "for h3 in soup.find(class_='part_list_2').find_all('h3'):\n",
    "    date_string = h3.find(class_='date').text\n",
    "    if str_to_timestamp(date_string) > two_hours_ago:\n",
    "        Date = h3.find(class_='date').text\n",
    "        Title = h3.find(name='a').text\n",
    "        Category = h3.find(name='em').text\n",
    "        Link = h3.find(name='a')['href']\n",
    "        print(Date, Category, Title, 'https://www.ettoday.net'+Link)"
   ]
  },
  {
   "cell_type": "markdown",
   "metadata": {},
   "source": [
    "## 3. 根據範例，取出三天前下午三點到五點的新聞"
   ]
  },
  {
   "cell_type": "code",
   "execution_count": 18,
   "metadata": {},
   "outputs": [
    {
     "data": {
      "text/plain": [
       "'\\nYour Code\\n'"
      ]
     },
     "execution_count": 18,
     "metadata": {},
     "output_type": "execute_result"
    }
   ],
   "source": [
    "'''\n",
    "Your Code\n",
    "'''"
   ]
  },
  {
   "cell_type": "code",
   "execution_count": 19,
   "metadata": {},
   "outputs": [
    {
     "name": "stdout",
     "output_type": "stream",
     "text": [
      "2020-03-15\n"
     ]
    }
   ],
   "source": [
    "today = datetime.date.today() \n",
    "three_days_ago = today - datetime.timedelta(3)\n",
    "print(three_days_ago)"
   ]
  },
  {
   "cell_type": "code",
   "execution_count": 34,
   "metadata": {},
   "outputs": [],
   "source": [
    "\n",
    "# 三天前15:00的時間戳\n",
    "dt = \"2019/12/23 15:00\"\n",
    "timeArray = time.strptime(dt, \"%Y/%m/%d %H:%M\")\n",
    "three_clock = time.mktime(timeArray)\n",
    "\n",
    "# 三天前17:00的時間戳\n",
    "dt = \"2019/12/23 17:00\"\n",
    "timeArray = time.strptime(dt, \"%Y/%m/%d %H:%M\")\n",
    "five_clock = time.mktime(timeArray)"
   ]
  },
  {
   "cell_type": "code",
   "execution_count": 35,
   "metadata": {},
   "outputs": [],
   "source": [
    "selectYear = Select(browser.find_element_by_id(\"selY\"))\n",
    "selectYear.select_by_value('2020')\n",
    "selectMonth = Select(browser.find_element_by_id(\"selM\"))\n",
    "selectMonth.select_by_value('3')\n",
    "selectDay = Select(browser.find_element_by_id('selD'))\n",
    "selectDay.select_by_value('15')\n",
    "\n",
    "browser.find_element_by_css_selector('#button').click()"
   ]
  },
  {
   "cell_type": "code",
   "execution_count": 38,
   "metadata": {},
   "outputs": [],
   "source": [
    "for i in range(15):\n",
    "    time.sleep(2)\n",
    "    browser.execute_script('window.scrollTo(1,10000);')"
   ]
  },
  {
   "cell_type": "code",
   "execution_count": 37,
   "metadata": {},
   "outputs": [],
   "source": [
    "html = browser.page_source\n",
    "soup = Soup(html, 'html5lib')\n",
    "for h3 in soup.find(class_='part_list_2').find_all('h3'):\n",
    "    date_string = h3.find(class_='date').text\n",
    "    # 如果時戳比15:00大 and 比17:00小\n",
    "    if five_clock > str_to_timestamp(date_string) > three_clock :\n",
    "        Date = h3.find(class_='date').text\n",
    "        Title = h3.find(name='a').text\n",
    "        Category = h3.find(name='em').text\n",
    "        Link = h3.find(name='a')['href']\n",
    "        print(Date, Category, Title, 'https://www.ettoday.net'+Link)"
   ]
  },
  {
   "cell_type": "code",
   "execution_count": null,
   "metadata": {},
   "outputs": [],
   "source": []
  }
 ],
 "metadata": {
  "kernelspec": {
   "display_name": "Python 3",
   "language": "python",
   "name": "python3"
  },
  "language_info": {
   "codemirror_mode": {
    "name": "ipython",
    "version": 3
   },
   "file_extension": ".py",
   "mimetype": "text/x-python",
   "name": "python",
   "nbconvert_exporter": "python",
   "pygments_lexer": "ipython3",
   "version": "3.7.3"
  }
 },
 "nbformat": 4,
 "nbformat_minor": 2
}
