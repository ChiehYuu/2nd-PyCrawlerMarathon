{
 "cells": [
  {
   "cell_type": "markdown",
   "metadata": {},
   "source": [
    "# HTTP 動態網頁架構說明\n",
    "\n",
    "\n",
    "* 了解動態網頁的資料爬蟲策略\n",
    "* 知道非同步網頁載入機制（Ajax）\n",
    "* 學習兩種對應動態網頁爬蟲的的策略\n"
   ]
  },
  {
   "cell_type": "markdown",
   "metadata": {},
   "source": [
    "## 作業目標\n",
    "\n",
    "回答以下問題：\n",
    "\n",
    "1. 動態網頁跟靜態網頁的差別是什麼？原本靜態網頁的做法會產生什麼問題或是缺點？\n",
    "2. 還記得我們在 ETTODAY 靜態爬蟲實作練習中，有請大家完成一個題目「取出今天所有的發文」，但仔細看其實並沒有真的把當天所有的新聞都抓回來， 試著回答看看原因是什麼？及該如何檢查？\n"
   ]
  },
  {
   "cell_type": "markdown",
   "metadata": {},
   "source": [
    "### 1. 動態網頁跟靜態網頁的差別是什麼？原本靜態網頁的做法會產生什麼問題或是缺點？"
   ]
  },
  {
   "cell_type": "markdown",
   "metadata": {},
   "source": [
    "# Ans\n",
    "1. 動態網頁：有後台資料庫，以多元的形式自終端生成的網頁，可藉由網站上的變數變更改變網頁上面的型態，且藉由鑲入DOM裡面來達到視覺或是更新的效果。\n",
    "2. 靜態網頁：主要以html標籤型式將文字圖像聲音flash等等鑲入，為一種沒有後台資料庫，純粹將所有的物件都鑲入網頁頁面當中的網頁型式\n",
    "3. 靜態網頁的做法問題：靜態網頁需一次性下載所有的資料，容易造成資料量過大難以閱讀，資料儲存需大量空間導致後續作業困難，且抓下來的資料為當時之資料，在資料更新以後須重新抓取，需大量時間重複作業。"
   ]
  },
  {
   "cell_type": "markdown",
   "metadata": {},
   "source": [
    "### 2. 還記得我們在 ETTODAY 靜態爬蟲實作練習中，有請大家完成一個題目「取出今天所有的發文」，但仔細看其實並沒有真的把當天所有的新聞都抓回來， 試著回答看看原因是什麼？及該如何檢查？"
   ]
  },
  {
   "cell_type": "markdown",
   "metadata": {},
   "source": [
    "# ANS\n",
    "1. 以靜態網頁實作當作，所抓取之資料當時刻在頁面上之所有新聞，因為靜態網頁是擷取該網頁上面之數據，所以如果要今天所有發文的話得要限定時間，然後一頁一頁確認每篇發文時間，反覆抓取，找到當日第一篇文章，再繼續抓回到該日最後一篇文章，進程上相較複雜，切需花費多時。\n",
    "2. 若要檢查確認當日所有發文，得需限定發文時間，然後第一篇往回找，直到時間不符合為止。"
   ]
  },
  {
   "cell_type": "code",
   "execution_count": null,
   "metadata": {},
   "outputs": [],
   "source": []
  },
  {
   "cell_type": "code",
   "execution_count": null,
   "metadata": {},
   "outputs": [],
   "source": []
  }
 ],
 "metadata": {
  "kernelspec": {
   "display_name": "Python 3",
   "language": "python",
   "name": "python3"
  },
  "language_info": {
   "codemirror_mode": {
    "name": "ipython",
    "version": 3
   },
   "file_extension": ".py",
   "mimetype": "text/x-python",
   "name": "python",
   "nbconvert_exporter": "python",
   "pygments_lexer": "ipython3",
   "version": "3.7.3"
  }
 },
 "nbformat": 4,
 "nbformat_minor": 2
}
