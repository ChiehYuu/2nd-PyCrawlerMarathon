{
 "cells": [
  {
   "cell_type": "markdown",
   "metadata": {},
   "source": [
    "# 自動化更新機制\n",
    "\n",
    "\n",
    "* 如何定期執行爬蟲程式\n",
    "* 更新時需要注意的事情是什麼？\n"
   ]
  },
  {
   "cell_type": "markdown",
   "metadata": {},
   "source": [
    "### 方法一：在迴圈中加上 Sleep"
   ]
  },
  {
   "cell_type": "code",
   "execution_count": 1,
   "metadata": {},
   "outputs": [
    {
     "name": "stdout",
     "output_type": "stream",
     "text": [
      "2020-04-07 23:33:17\n",
      "2020-04-07 23:33:19\n",
      "2020-04-07 23:33:21\n",
      "2020-04-07 23:33:23\n",
      "2020-04-07 23:33:25\n"
     ]
    }
   ],
   "source": [
    "import time\n",
    "\n",
    "def timer(n): \n",
    "    print(time.strftime('%Y-%m-%d %X', time.localtime()))\n",
    "    return\n",
    "\n",
    "count = 0\n",
    "while True:  \n",
    "    print(time.strftime('%Y-%m-%d %X', time.localtime()))  \n",
    "    time.sleep(2)\n",
    "    count += 1\n",
    "    if count >= 5:\n",
    "        break\n"
   ]
  },
  {
   "cell_type": "markdown",
   "metadata": {},
   "source": [
    "### 方法二：利用 threading 的 Timer"
   ]
  },
  {
   "cell_type": "code",
   "execution_count": 2,
   "metadata": {},
   "outputs": [
    {
     "name": "stdout",
     "output_type": "stream",
     "text": [
      "2020-04-07 23:33:27\n",
      "2020-04-07 23:33:29\n",
      "2020-04-07 23:33:31\n",
      "2020-04-07 23:33:33\n"
     ]
    }
   ],
   "source": [
    "import time\n",
    "from threading import Timer\n",
    "\n",
    "def printHello(count):\n",
    "    count += 1\n",
    "    if count >= 5:\n",
    "        return\n",
    "    print(time.strftime('%Y-%m-%d %X', time.localtime()))\n",
    "    t = Timer(2, printHello, (count,)) \n",
    "    t.start() \n",
    "\n",
    "count = 0\n",
    "printHello(count)"
   ]
  },
  {
   "cell_type": "markdown",
   "metadata": {},
   "source": [
    "### 方法三：第三方套件 schedule"
   ]
  },
  {
   "cell_type": "code",
   "execution_count": null,
   "metadata": {},
   "outputs": [
    {
     "name": "stdout",
     "output_type": "stream",
     "text": [
      "2020-04-07 23:34:22\n",
      "2020-04-07 23:34:24\n",
      "2020-04-07 23:34:26\n",
      "2020-04-07 23:34:28\n",
      "2020-04-07 23:34:30\n",
      "2020-04-07 23:34:32\n",
      "2020-04-07 23:34:34\n",
      "2020-04-07 23:34:36\n",
      "2020-04-07 23:34:38\n",
      "2020-04-07 23:34:40\n",
      "2020-04-07 23:34:42\n",
      "2020-04-07 23:34:44\n",
      "2020-04-07 23:34:46\n",
      "2020-04-07 23:34:48\n",
      "2020-04-07 23:34:50\n",
      "2020-04-07 23:34:52\n",
      "2020-04-07 23:34:54\n"
     ]
    }
   ],
   "source": [
    "import schedule\n",
    "import time\n",
    "\n",
    "def job():        \n",
    "    print(time.strftime('%Y-%m-%d %X', time.localtime()))\n",
    "\n",
    "schedule.every(2).seconds.do(job)\n",
    "\n",
    "while True:\n",
    "    schedule.run_pending()"
   ]
  },
  {
   "cell_type": "markdown",
   "metadata": {},
   "source": [
    "## 作業目標\n",
    "\n",
    "* 列舉一個是需要用自動化更新的機制來達成的爬蟲應用。"
   ]
  },
  {
   "cell_type": "code",
   "execution_count": null,
   "metadata": {},
   "outputs": [],
   "source": []
  }
 ],
 "metadata": {
  "kernelspec": {
   "display_name": "Python 3",
   "language": "python",
   "name": "python3"
  },
  "language_info": {
   "codemirror_mode": {
    "name": "ipython",
    "version": 3
   },
   "file_extension": ".py",
   "mimetype": "text/x-python",
   "name": "python",
   "nbconvert_exporter": "python",
   "pygments_lexer": "ipython3",
   "version": "3.7.7"
  }
 },
 "nbformat": 4,
 "nbformat_minor": 2
}
