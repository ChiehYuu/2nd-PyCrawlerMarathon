{
 "cells": [
  {
   "cell_type": "markdown",
   "metadata": {},
   "source": [
    "# API 資料串接 - 以 Dcard API 實作範例\n",
    "\n",
    "* 了解 Dcard API 使用方式與回傳內容\n",
    "* 撰寫程式存取 API 且解析 JSON 格式資料\n"
   ]
  },
  {
   "cell_type": "markdown",
   "metadata": {},
   "source": [
    "## 作業目標\n",
    "\n",
    "* 請利用 API: https://www.dcard.tw/_api/forums/pet/posts?popular=true 回答下列問題：\n",
    "\n",
    "1. 這個 API 一次會回傳幾筆資料？每一筆資料包含哪些欄位？\n",
    "2. 取出每一筆資料的「標題」、「貼文時間」、「留言人數」、「按讚人數」\n",
    "3. 計算熱門/非熱門文章的「平均留言人數」與「平均按讚人數」"
   ]
  },
  {
   "cell_type": "code",
   "execution_count": 58,
   "metadata": {},
   "outputs": [],
   "source": [
    "# 1. 這個 API 一次會回傳幾筆資料？每一筆資料包含哪些欄位？\n",
    "\n",
    "'''\n",
    "Your Code\n",
    "'''\n",
    "import requests\n",
    "import json\n",
    "#從ＡＰＩ獲取資料\n",
    "url = 'https://www.dcard.tw/_api/forums/pet/posts?popular=true'\n",
    "r = requests.get(url)"
   ]
  },
  {
   "cell_type": "code",
   "execution_count": 57,
   "metadata": {},
   "outputs": [],
   "source": [
    "#以json的方式讀取\n",
    "js_read = json.loads(r.text)"
   ]
  },
  {
   "cell_type": "code",
   "execution_count": 16,
   "metadata": {},
   "outputs": [
    {
     "name": "stdout",
     "output_type": "stream",
     "text": [
      "一次回傳30筆資料\n"
     ]
    }
   ],
   "source": [
    "#計算回傳幾筆資料\n",
    "count = 0\n",
    "for i in js_read:\n",
    "    count += 1\n",
    "print('一次回傳{}筆資料'.format(count))"
   ]
  },
  {
   "cell_type": "code",
   "execution_count": 42,
   "metadata": {},
   "outputs": [
    {
     "name": "stdout",
     "output_type": "stream",
     "text": [
      "回傳的項目：\n",
      "1.id\n",
      "2.title\n",
      "3.excerpt\n",
      "4.anonymousSchool\n",
      "5.anonymousDepartment\n",
      "6.pinned\n",
      "7.forumId\n",
      "8.replyId\n",
      "9.createdAt\n",
      "10.updatedAt\n",
      "11.commentCount\n",
      "12.likeCount\n",
      "13.withNickname\n",
      "14.tags\n",
      "15.topics\n",
      "16.meta\n",
      "17.forumName\n",
      "18.forumAlias\n",
      "19.gender\n",
      "20.school\n",
      "21.department\n",
      "22.replyTitle\n",
      "23.mediaMeta\n",
      "24.reactions\n",
      "25.hidden\n",
      "26.customStyle\n",
      "27.isSuspiciousAccount\n",
      "28.layout\n",
      "29.withImages\n",
      "30.withVideos\n",
      "31.media\n",
      "32.reportReasonText\n",
      "33.postAvatar\n"
     ]
    }
   ],
   "source": [
    "#每筆資料回傳哪些個項目\n",
    "items = js_read[0]\n",
    "print('回傳的項目：')\n",
    "num = 1\n",
    "for key in items.keys():\n",
    "    print('{}.{}'.format(num,key))\n",
    "    num += 1"
   ]
  },
  {
   "cell_type": "code",
   "execution_count": 47,
   "metadata": {},
   "outputs": [
    {
     "name": "stdout",
     "output_type": "stream",
     "text": [
      "1.標題：養了一隻小老虎！？，貼文時間：2020-02-26T14:44:47.830Z，留言人數：176，按讚人數：9736\n",
      "2.標題：有人有看過這麼有喜感的貓嗎，貼文時間：2020-02-27T00:41:45.740Z，留言人數：45，按讚人數：986\n",
      "3.標題：你要工人？，貼文時間：2020-02-26T18:35:16.716Z，留言人數：9，按讚人數：890\n",
      "4.標題：我的夢幻玉米蛇😭，貼文時間：2020-02-26T17:59:21.848Z，留言人數：31，按讚人數：748\n",
      "5.標題：小蝦蝦不知道可不可以上熱門🥺，貼文時間：2020-02-26T22:13:53.583Z，留言人數：28，按讚人數：186\n",
      "6.標題：天氣好想拍貓 天氣不好想拍貓，貼文時間：2020-02-26T17:05:42.877Z，留言人數：1，按讚人數：162\n",
      "7.標題：#圖 在公園遛天竺鼠ヽ(✿ﾟ▽ﾟ)ノ，貼文時間：2020-02-27T08:00:49.162Z，留言人數：5，按讚人數：49\n",
      "8.標題：看起來很衰的臘腸狗，貼文時間：2020-02-27T03:24:54.078Z，留言人數：4，按讚人數：34\n",
      "9.標題：不喜歡洗澡的狗，貼文時間：2020-02-27T01:06:35.270Z，留言人數：9，按讚人數：28\n",
      "10.標題：習慣躺枕頭睡覺，貼文時間：2020-02-27T05:50:41.877Z，留言人數：3，按讚人數：20\n",
      "11.標題：拍屁屁奴隸的心聲，貼文時間：2020-02-27T13:38:01.565Z，留言人數：2，按讚人數：17\n",
      "12.標題：柴柴從後面看像什麼！，貼文時間：2020-02-26T18:19:46.140Z，留言人數：2，按讚人數：15\n",
      "13.標題：#圖#鬆獅蜥#鎖匠師傅？，貼文時間：2020-02-26T14:20:09.986Z，留言人數：2，按讚人數：15\n",
      "14.標題：露屁屁外星人，貼文時間：2020-02-27T07:09:01.168Z，留言人數：0，按讚人數：12\n",
      "15.標題：來曬一下可爾必思，貼文時間：2020-02-27T08:19:49.020Z，留言人數：1，按讚人數：11\n",
      "16.標題：當你家的貓在看風景時⋯，貼文時間：2020-02-27T06:48:59.523Z，留言人數：0，按讚人數：11\n",
      "17.標題：朕想怎麼睡 就怎麼睡(˶‾᷄ ⁻̫ ‾᷅˵)，貼文時間：2020-02-27T19:53:48.404Z，留言人數：0，按讚人數：10\n",
      "18.標題：家有小三，貼文時間：2020-02-27T10:14:48.735Z，留言人數：0，按讚人數：10\n",
      "19.標題：來曬一下家裡的黑狗🐶，貼文時間：2020-02-27T21:10:15.772Z，留言人數：1，按讚人數：8\n",
      "20.標題：🐔抓癢，貼文時間：2020-02-27T05:50:48.792Z，留言人數：3，按讚人數：7\n",
      "21.標題：學妹揪我一起看貓，貼文時間：2020-02-27T05:18:10.961Z，留言人數：4，按讚人數：7\n",
      "22.標題：這樣養龍貓是可以的嗎，貼文時間：2020-02-26T14:16:08.370Z，留言人數：1，按讚人數：7\n",
      "23.標題：#協尋紅貴賓#彰化埔心，貼文時間：2020-02-27T17:05:28.180Z，留言人數：2，按讚人數：6\n",
      "24.標題：從小養到大的主子真的信任我嗎，貼文時間：2020-02-27T08:13:49.089Z，留言人數：6，按讚人數：6\n",
      "25.標題：[抒發文]小狗狗去天堂了，貼文時間：2020-02-27T14:08:40.800Z，留言人數：2，按讚人數：5\n",
      "26.標題：回不去的喵喵，貼文時間：2020-02-27T01:49:34.657Z，留言人數：1，按讚人數：5\n",
      "27.標題：新手開缸小紀錄｜準備&第一天，貼文時間：2020-02-26T22:43:32.501Z，留言人數：7，按讚人數：5\n",
      "28.標題：圖多，厭世又不失禮貌系列梗圖，貼文時間：2020-02-27T11:22:05.786Z，留言人數：0，按讚人數：4\n",
      "29.標題：倒下的貓，貼文時間：2020-02-27T06:28:59.575Z，留言人數：0，按讚人數：4\n",
      "30.標題：《黑皮真的很happy》也是結紮小紀錄，貼文時間：2020-02-26T15:58:20.343Z，留言人數：2，按讚人數：4\n"
     ]
    }
   ],
   "source": [
    "# 2. 取出每一筆資料的「標題」、「貼文時間」、「留言人數」、「按讚人數」\n",
    "\n",
    "'''\n",
    "Your Code\n",
    "'''\n",
    "num = 1\n",
    "for i in js_read:\n",
    "    print('{}.標題：{}，貼文時間：{}，留言人數：{}，按讚人數：{}'.format(num,i['title'],i['createdAt'],i['commentCount'],i['likeCount']))\n",
    "    num+=1"
   ]
  },
  {
   "cell_type": "code",
   "execution_count": 54,
   "metadata": {},
   "outputs": [
    {
     "name": "stdout",
     "output_type": "stream",
     "text": [
      "平均留言人數：12.0\n",
      "平均按讚人數：434.0\n"
     ]
    }
   ],
   "source": [
    "# 3. 計算熱門/非熱門文章的「平均留言人數」與「平均按讚人數」\n",
    "\n",
    "'''\n",
    "Your Code\n",
    "'''\n",
    "import numpy as np\n",
    "commentCount_num = []\n",
    "likeCount_num = []\n",
    "for i in js_read:\n",
    "    commentCount_num.append(i['commentCount'])\n",
    "    likeCount_num.append(i['likeCount'])\n",
    "print('平均留言人數：{}'.format(round(np.mean(commentCount_num))))\n",
    "print('平均按讚人數：{}'.format(round(np.mean(likeCount_num))))"
   ]
  },
  {
   "cell_type": "code",
   "execution_count": null,
   "metadata": {},
   "outputs": [],
   "source": []
  },
  {
   "cell_type": "code",
   "execution_count": null,
   "metadata": {},
   "outputs": [],
   "source": []
  }
 ],
 "metadata": {
  "kernelspec": {
   "display_name": "Python 3",
   "language": "python",
   "name": "python3"
  },
  "language_info": {
   "codemirror_mode": {
    "name": "ipython",
    "version": 3
   },
   "file_extension": ".py",
   "mimetype": "text/x-python",
   "name": "python",
   "nbconvert_exporter": "python",
   "pygments_lexer": "ipython3",
   "version": "3.7.4"
  }
 },
 "nbformat": 4,
 "nbformat_minor": 2
}
